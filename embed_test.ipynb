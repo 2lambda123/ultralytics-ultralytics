{
 "cells": [
  {
   "cell_type": "markdown",
   "metadata": {},
   "source": [
    "# Modify YOLOv8 to Get Embedding of Full Image"
   ]
  },
  {
   "cell_type": "code",
   "execution_count": null,
   "metadata": {},
   "outputs": [],
   "source": [
    "from ultralytics import YOLO"
   ]
  },
  {
   "cell_type": "code",
   "execution_count": null,
   "metadata": {},
   "outputs": [],
   "source": [
    "image_file = './ultralytics/assets/bus.jpg'\n",
    "\n",
    "# Test with more than one image at a time\n",
    "# image_file = ['./ultralytics/assets/bus.jpg'] * 2"
   ]
  },
  {
   "cell_type": "code",
   "execution_count": null,
   "metadata": {},
   "outputs": [],
   "source": [
    "# Load DETECT model\n",
    "detect_model = YOLO('yolov8m', 'detect')  # pretrained YOLOv8n model\n",
    "detect_model.to('cuda:0')\n",
    "detect_model.name = 'yolov8-detect'"
   ]
  },
  {
   "cell_type": "code",
   "execution_count": null,
   "metadata": {},
   "outputs": [],
   "source": [
    "detect_model.info()"
   ]
  },
  {
   "cell_type": "code",
   "execution_count": null,
   "metadata": {},
   "outputs": [],
   "source": [
    "detect_results = detect_model.predict(image_file, imgsz = 640, save = True, device='cuda:0', stream=False, verbose=True)\n",
    "detect_results"
   ]
  },
  {
   "cell_type": "code",
   "execution_count": null,
   "metadata": {},
   "outputs": [],
   "source": [
    "len(detect_results[0].embedding)"
   ]
  },
  {
   "cell_type": "markdown",
   "metadata": {},
   "source": [
    "## Check Head of various Models"
   ]
  },
  {
   "cell_type": "markdown",
   "metadata": {},
   "source": [
    "### Segment Model"
   ]
  },
  {
   "cell_type": "code",
   "execution_count": null,
   "metadata": {},
   "outputs": [],
   "source": [
    "# Load a SEGMENT model\n",
    "segment_model = YOLO('yolov8m-seg.pt')\n",
    "segment_model.to('cuda:0')\n",
    "segment_model.name = 'yolov8-segment'"
   ]
  },
  {
   "cell_type": "code",
   "execution_count": null,
   "metadata": {},
   "outputs": [],
   "source": [
    "segment_results = segment_model.predict(image_file, imgsz = 640, save = True, device='cuda:0', stream=False, verbose=True)\n",
    "segment_results"
   ]
  },
  {
   "cell_type": "code",
   "execution_count": null,
   "metadata": {},
   "outputs": [],
   "source": [
    "len(segment_results[0].embedding)"
   ]
  },
  {
   "cell_type": "markdown",
   "metadata": {},
   "source": [
    "### Pose Model"
   ]
  },
  {
   "cell_type": "code",
   "execution_count": null,
   "metadata": {},
   "outputs": [],
   "source": [
    "# Load a Pose model\n",
    "pose_model = YOLO('yolov8m-pose.pt')\n",
    "pose_model.to('cuda:0')\n",
    "pose_model.name = 'yolov8-pose'"
   ]
  },
  {
   "cell_type": "code",
   "execution_count": null,
   "metadata": {},
   "outputs": [],
   "source": [
    "pose_results = pose_model.predict(image_file, imgsz = 640, save = True, device='cuda:0', stream=False, verbose=True)\n",
    "pose_results"
   ]
  },
  {
   "cell_type": "code",
   "execution_count": null,
   "metadata": {},
   "outputs": [],
   "source": [
    "len(pose_results[0].embedding)"
   ]
  },
  {
   "cell_type": "markdown",
   "metadata": {},
   "source": [
    "### Classification Model"
   ]
  },
  {
   "cell_type": "code",
   "execution_count": null,
   "metadata": {},
   "outputs": [],
   "source": [
    "# Load a Classification model\n",
    "class_model = YOLO('yolov8m-cls.pt')\n",
    "class_model.to('cuda:0')\n",
    "class_model.name = 'yolov8-class'"
   ]
  },
  {
   "cell_type": "code",
   "execution_count": null,
   "metadata": {},
   "outputs": [],
   "source": [
    "class_results = class_model.predict(image_file, imgsz = 640, save = True, device='cuda:0', stream=False, verbose=True)\n",
    "class_results"
   ]
  },
  {
   "cell_type": "code",
   "execution_count": null,
   "metadata": {},
   "outputs": [],
   "source": [
    "len(class_results[0].embedding)"
   ]
  },
  {
   "cell_type": "markdown",
   "metadata": {},
   "source": [
    "## SAM\n"
   ]
  },
  {
   "cell_type": "code",
   "execution_count": null,
   "metadata": {},
   "outputs": [],
   "source": [
    "from ultralytics import SAM\n",
    "\n",
    "# Load a model\n",
    "model = SAM('sam_b.pt')\n",
    "\n",
    "# Display model information (optional)\n",
    "model.info()\n",
    "\n",
    "# Run inference with bboxes prompt\n",
    "model('ultralytics/assets/zidane.jpg', bboxes=[439, 437, 524, 709])\n",
    "\n",
    "# Run inference with points prompt\n",
    "# model('ultralytics/assets/zidane.jpg', points=[900, 370], labels=[1])"
   ]
  },
  {
   "cell_type": "markdown",
   "metadata": {},
   "source": [
    "# YOLO-NAS"
   ]
  },
  {
   "cell_type": "code",
   "execution_count": null,
   "metadata": {},
   "outputs": [],
   "source": [
    "from ultralytics import NAS\n",
    "\n",
    "# Load a COCO-pretrained YOLO-NAS-s model\n",
    "model = NAS('yolo_nas_s.pt')\n",
    "\n",
    "# Display model information (optional)\n",
    "model.info()\n",
    "\n",
    "# Validate the model on the COCO8 example dataset\n",
    "# results = model.val(data='coco8.yaml')\n",
    "\n",
    "image_file = './ultralytics/assets/bus.jpg'\n",
    "# Run inference with the YOLO-NAS-s model on the 'bus.jpg' image\n",
    "results = model(image_file)\n",
    "\n",
    "# Error RuntimeError: Inference tensors do not track version counter."
   ]
  },
  {
   "cell_type": "markdown",
   "metadata": {},
   "source": [
    "# RT-DETR"
   ]
  },
  {
   "cell_type": "code",
   "execution_count": null,
   "metadata": {},
   "outputs": [],
   "source": [
    "from ultralytics import RTDETR\n",
    "\n",
    "# Load a COCO-pretrained RT-DETR-l model\n",
    "model = RTDETR('rtdetr-l.pt')\n",
    "\n",
    "# Display model information (optional)\n",
    "model.info()\n",
    "\n",
    "# Train the model on the COCO8 example dataset for 100 epochs\n",
    "# results = model.train(data='coco8.yaml', epochs=100, imgsz=640)\n",
    "\n",
    "# Run inference with the RT-DETR-l model on the 'bus.jpg' image\n",
    "results = model(image_file)\n",
    "results"
   ]
  },
  {
   "cell_type": "markdown",
   "metadata": {},
   "source": [
    "## Check Vectors are the same\n",
    "\n",
    "- Detect, Segment, Pose are all 576 in length\n",
    "- Class are 768 in length"
   ]
  }
 ],
 "metadata": {
  "kernelspec": {
   "display_name": ".yenv",
   "language": "python",
   "name": "python3"
  },
  "language_info": {
   "codemirror_mode": {
    "name": "ipython",
    "version": 3
   },
   "file_extension": ".py",
   "mimetype": "text/x-python",
   "name": "python",
   "nbconvert_exporter": "python",
   "pygments_lexer": "ipython3",
   "version": "3.10.12"
  }
 },
 "nbformat": 4,
 "nbformat_minor": 2
}
